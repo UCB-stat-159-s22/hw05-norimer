{
 "cells": [
  {
   "cell_type": "markdown",
   "id": "225d6d10-b796-4447-98ac-953d601c235c",
   "metadata": {},
   "source": [
    "# Walking-through HW5, Noam Rimer"
   ]
  },
  {
   "cell_type": "markdown",
   "id": "25b89166-3b8b-431c-a43e-fce7f366b919",
   "metadata": {},
   "source": [
    "### Step 1. Repository Structure\n",
    "\n",
    "**Adding datafiles, index.ipynb, and readligo.py files**\n",
    "\n",
    "1) In JupyterHub terminal: **git clone {LOSC_Event_tutorial URL}**\n",
    "\n",
    "2) In JupyterHub terminal: **mv {desired LOSC_Event_tutorial file} ../hw05-norimer/**\n",
    "\n",
    "**Editing index.ipynb as indicated**\n",
    "\n",
    "1) Open index.ipynb in JupyterHub. Manually paste the desired text at top of notebok. Save!\n",
    "\n",
    "**Pushing**\n",
    "\n",
    "1) Git add, commit, push all new files of hw05-norimer/\n",
    "\n",
    "**Tagging repo-basic**\n",
    "\n",
    "1) In JupyterHub terminal: **git tag repo-basic**\n",
    "\n",
    "2) Then: **git push --tags**"
   ]
  },
  {
   "cell_type": "markdown",
   "id": "08060b59-5fb6-4854-b0d0-ec974684f0a4",
   "metadata": {},
   "source": [
    "### Step 2. A working ligo Conda environment\n",
    "\n",
    "**Finding packages to include in environment.yml**\n",
    "\n",
    "1) Prompt specifies Python 2.7 and decorator X.Y packages.\n",
    "\n",
    "2) Open LIGO Binder\n",
    "\n",
    "3) Packages: numpy, scipy, h5py, json, matplotlib, IPython all specified in code chunks 2, 16, and 17 of index.ipynb\n",
    "\n",
    "**Finding package versions**\n",
    "\n",
    "1) In LIGO Binder JupyterHub Terminal: **conda deactivate**\n",
    "\n",
    "2) Then: **conda activate kernel**\n",
    "\n",
    "3) Then: **mamba list**\n",
    "\n",
    "4) From mamba list incoporate all version numbers (X.Y only not X.Y.Z as specified in prompt) for packages described in index.ipynb. Also include ipykernel. \n",
    "\n",
    "5) Can also obtain/verify version numbers in index.ipynb via: **{package name}.\\_\\_version\\_\\_**"
   ]
  },
  {
   "cell_type": "raw",
   "id": "7ea48a3c-622d-4127-b0a4-652c846f8194",
   "metadata": {},
   "source": [
    "import scipy\n",
    "import matplotlib\n",
    "import decorator\n",
    "import IPython\n",
    "import ipykernel\n",
    "np.__version__, scipy.__version__, h5py.__version__, json.__version__, matplotlib.__version__, decorator.__version__, IPython.__version__, ipykernel.__version__"
   ]
  },
  {
   "cell_type": "markdown",
   "id": "3e976031-e43e-4caf-ad35-52f94cadfaff",
   "metadata": {},
   "source": [
    "**environment.yml**\n",
    "\n",
    "1) Make desired environment.yml file.\n",
    "\n",
    "2) Git add, commit, push environment.yml to remote hw05-norimer/\n",
    "\n",
    "**Tagging conda-env**\n",
    "\n",
    "1) In JupyterHub terminal: **git tag conda-env**\n",
    "\n",
    "2) Then: **git push --tags**"
   ]
  },
  {
   "cell_type": "markdown",
   "id": "e6efcda7-27a9-4103-a3a6-17216d7bf649",
   "metadata": {},
   "source": [
    "### Step 3. Python 'ligotools' Package\n",
    "\n",
    "**Move readligo.py into a folder called ligotools**\n",
    "\n",
    "1. In JupyterHub terminal: **mkdir ligotools**\n",
    "\n",
    "2. Then: **mv readligo.py ligotools**\n",
    "\n",
    "3. Then: **git rm readligo.py**\n",
    "\n",
    "**Change index.ipynb**\n",
    "\n",
    "1. Change the notebook line as specified in the prompt. \n",
    "\n",
    "**Ensure ligotools works as a proper package**\n",
    "\n",
    "1. Create **\\_\\_init.py\\_\\_** using the template presented in *Lecture 11*.\n",
    "\n",
    "**Tagging and Pushing**\n",
    "\n",
    "1) Git add (ligotools, index.ipynb), rm (readligo.py), commit, push to remote hw05-norimer/\n",
    "\n",
    "2) **git tag ligotools_pkg**\n",
    "\n",
    "3) **git push --tags**\n"
   ]
  },
  {
   "cell_type": "markdown",
   "id": "f2607a7d-0348-4484-915c-e700c3d904eb",
   "metadata": {},
   "source": [
    "### Step 4. Add Binder Support\n",
    "\n",
    "1. On Binder Website. Reference **main** branch, and path **index.ipynb**.\n",
    "\n",
    "2. Obtain Binder Badge, and edit README.md as specified in prompt. \n",
    "\n",
    "3. Note! In Binder make sure to change kernel to Python 2.\n",
    "\n",
    "4. Git add, commit, push README.md to remote\n",
    "\n",
    "5. **git tag binder** and then: **git push --tags**"
   ]
  }
 ],
 "metadata": {
  "kernelspec": {
   "display_name": "Python 3 (ipykernel)",
   "language": "python",
   "name": "python3"
  },
  "language_info": {
   "codemirror_mode": {
    "name": "ipython",
    "version": 3
   },
   "file_extension": ".py",
   "mimetype": "text/x-python",
   "name": "python",
   "nbconvert_exporter": "python",
   "pygments_lexer": "ipython3",
   "version": "3.9.9"
  }
 },
 "nbformat": 4,
 "nbformat_minor": 5
}
